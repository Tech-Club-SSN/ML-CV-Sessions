{
 "cells": [
  {
   "cell_type": "markdown",
   "metadata": {},
   "source": [
    "# Python Tricks"
   ]
  },
  {
   "cell_type": "markdown",
   "metadata": {},
   "source": [
    "## List Comprehension"
   ]
  },
  {
   "cell_type": "code",
   "execution_count": null,
   "metadata": {},
   "outputs": [],
   "source": [
    "## Creating a list\n",
    "my_list = [6, 3, 1, 4, 7]"
   ]
  },
  {
   "cell_type": "code",
   "execution_count": null,
   "metadata": {},
   "outputs": [],
   "source": [
    "## Program to add 10 to each element of the list, and store it in \"result\":\n",
    "\n",
    "result = []\n",
    "for element in my_list:\n",
    "    result.append(element + 10)\n",
    "    \n",
    "print(result)"
   ]
  },
  {
   "cell_type": "code",
   "execution_count": null,
   "metadata": {},
   "outputs": [],
   "source": [
    "## The same program, but using list comprehension:\n",
    "\n",
    "result = [element+10 for element in my_list]\n",
    "\n",
    "print(result)"
   ]
  },
  {
   "cell_type": "markdown",
   "metadata": {},
   "source": [
    "## Zip"
   ]
  },
  {
   "cell_type": "code",
   "execution_count": null,
   "metadata": {},
   "outputs": [],
   "source": [
    "## Traversing two equal length lists at the same time:\n",
    "\n",
    "my_list_1 = ['Apple', 'Orange', 'Mango']\n",
    "my_list_2 = [1, 2, 3]\n",
    "\n",
    "length = len(my_list_1)\n",
    "for i in range(length):\n",
    "    print(my_list_1[i], my_list_2[i])"
   ]
  },
  {
   "cell_type": "code",
   "execution_count": null,
   "metadata": {},
   "outputs": [],
   "source": [
    "## Same program, but using zip:\n",
    "\n",
    "my_list_1 = ['Apple', 'Orange', 'Mango']\n",
    "my_list_2 = [1, 2, 3]\n",
    "\n",
    "for element_1, element_2 in zip(my_list_1, my_list_2):\n",
    "    print(element_1, element_2)"
   ]
  },
  {
   "cell_type": "markdown",
   "metadata": {},
   "source": [
    "## Enumerate and Formatting"
   ]
  },
  {
   "cell_type": "code",
   "execution_count": null,
   "metadata": {},
   "outputs": [],
   "source": [
    "## Let's create a list and print \n",
    "\n",
    "my_list = ['Apple', 'Orange', 'Mango']\n",
    "count = 0\n",
    "for element in my_list:\n",
    "    count += 1\n",
    "    print(element, \"is fruit number\", str(count))"
   ]
  },
  {
   "cell_type": "code",
   "execution_count": null,
   "metadata": {},
   "outputs": [],
   "source": [
    "## Same program, but using enumerate:\n",
    "\n",
    "my_list = ['Apple', 'Orange', 'Mango']\n",
    "for count, element in enumerate(my_list, 1):\n",
    "    print(element, \"is fruit number\", str(count))"
   ]
  },
  {
   "cell_type": "code",
   "execution_count": null,
   "metadata": {},
   "outputs": [],
   "source": [
    "## Same program, but using enumerate and formatting:\n",
    "\n",
    "my_list = ['Apple', 'Orange', 'Mango']\n",
    "for count, element in enumerate(my_list, 1):\n",
    "    print(\"%s is fruit number %d\" % (element, count), end=', ')"
   ]
  },
  {
   "cell_type": "code",
   "execution_count": null,
   "metadata": {},
   "outputs": [],
   "source": [
    "## Formatting example\n",
    "\n",
    "some_float_value = 0.927092754\n",
    "print('Value = ', some_float_value)\n",
    "print('Value = %.2f' % some_float_value)"
   ]
  },
  {
   "cell_type": "markdown",
   "metadata": {},
   "source": [
    "## Files"
   ]
  },
  {
   "cell_type": "code",
   "execution_count": null,
   "metadata": {},
   "outputs": [],
   "source": [
    "## Creating a file 'trial.txt' and writing stuff to it.\n",
    "\n",
    "file = open('trial.txt', 'w')\n",
    "file.write('First line of file \\n')\n",
    "file.write('Second line of file \\n')\n",
    "file.close()"
   ]
  },
  {
   "cell_type": "code",
   "execution_count": null,
   "metadata": {},
   "outputs": [],
   "source": [
    "## Reading stuff from 'trial.txt'\n",
    "\n",
    "file = open('trial.txt', 'r')\n",
    "\n",
    "for line in file:\n",
    "    print(line)\n",
    "    \n",
    "file.close()"
   ]
  },
  {
   "cell_type": "code",
   "execution_count": null,
   "metadata": {},
   "outputs": [],
   "source": [
    "## Appending more lines to 'trial.txt'\n",
    "\n",
    "file = open('trial.txt', 'a')\n",
    "file.write('First line of file \\n')\n",
    "file.write('Second line of file \\n')\n",
    "file.close()"
   ]
  },
  {
   "cell_type": "code",
   "execution_count": null,
   "metadata": {},
   "outputs": [],
   "source": [
    "## Neater code to open and close files.\n",
    "\n",
    "with open('trial.txt', 'r') as file:\n",
    "    for line in file:\n",
    "        print(line)"
   ]
  },
  {
   "cell_type": "markdown",
   "metadata": {},
   "source": [
    "## Dictionaries"
   ]
  },
  {
   "cell_type": "code",
   "execution_count": null,
   "metadata": {},
   "outputs": [],
   "source": [
    "## Creating an empty dictionary:\n",
    "\n",
    "my_dict = {} ## You could also use: my_dict=dict()"
   ]
  },
  {
   "cell_type": "code",
   "execution_count": null,
   "metadata": {},
   "outputs": [],
   "source": [
    "## Adding values to a dictionary:\n",
    "\n",
    "my_dict['Key_1'] = 23\n",
    "my_dict['Key_2'] = 12\n",
    "my_dict['Key_3'] = 7"
   ]
  },
  {
   "cell_type": "code",
   "execution_count": null,
   "metadata": {},
   "outputs": [],
   "source": [
    "## Or more simply, you can do this:\n",
    "\n",
    "my_dict = {'Key_1': 23, 'Key_2': 12, 'Key_3': 7}"
   ]
  },
  {
   "cell_type": "code",
   "execution_count": null,
   "metadata": {},
   "outputs": [],
   "source": [
    "## Printing keys and values of a dictionary separately\n",
    "\n",
    "print(my_dict.keys())\n",
    "print(my_dict.values())\n",
    "print(my_dict.items())"
   ]
  },
  {
   "cell_type": "markdown",
   "metadata": {},
   "source": [
    "#### Counting elements of a list using dictionaries:"
   ]
  },
  {
   "cell_type": "code",
   "execution_count": null,
   "metadata": {},
   "outputs": [],
   "source": [
    "## Program to count the elements of a list.\n",
    "\n",
    "my_list = ['Apple', 'Orange', 'Apple', 'Apple', 'Banana', 'Apple', 'Orange']\n",
    "count = {}\n",
    "\n",
    "for element in my_list:\n",
    "    \n",
    "    ## The variable \"is_element_in_dict\" will become \"None\" if the element does not exist in the list.\n",
    "    ## Otherwise, the \"value\" of the element will be returned.\n",
    "    is_element_in_dict = count.get(element, None)\n",
    "    \n",
    "    if is_element_in_dict is not None:\n",
    "        count[element] += 1\n",
    "    else:\n",
    "        count[element] = 1\n",
    "\n",
    "print(count.items())"
   ]
  },
  {
   "cell_type": "code",
   "execution_count": null,
   "metadata": {},
   "outputs": [],
   "source": [
    "## Same program as above, but simplified:\n",
    "\n",
    "from collections import Counter\n",
    "\n",
    "my_list = ['Apple', 'Orange', 'Apple', 'Apple', 'Banana', 'Apple', 'Orange']\n",
    "count = Counter(my_list)\n",
    "\n",
    "print(count.items())"
   ]
  },
  {
   "cell_type": "markdown",
   "metadata": {},
   "source": [
    "## The OS library"
   ]
  },
  {
   "cell_type": "code",
   "execution_count": null,
   "metadata": {},
   "outputs": [],
   "source": [
    "import os"
   ]
  },
  {
   "cell_type": "markdown",
   "metadata": {},
   "source": [
    "#### The below command prints the current working directory. It's equivalent to linux pwd command."
   ]
  },
  {
   "cell_type": "code",
   "execution_count": null,
   "metadata": {},
   "outputs": [],
   "source": [
    "os.getcwd()"
   ]
  },
  {
   "cell_type": "code",
   "execution_count": null,
   "metadata": {},
   "outputs": [],
   "source": [
    "pwd"
   ]
  },
  {
   "cell_type": "markdown",
   "metadata": {},
   "source": [
    "#### The below command lists all files in a given directory"
   ]
  },
  {
   "cell_type": "code",
   "execution_count": null,
   "metadata": {},
   "outputs": [],
   "source": [
    "os.listdir('images')"
   ]
  },
  {
   "cell_type": "code",
   "execution_count": null,
   "metadata": {},
   "outputs": [],
   "source": [
    "## Alternate method of getting all filenames, if you know how they are named.\n",
    "\n",
    "image_list = ['Image_' + str(i) + '.jpg' for i in range(1, 6)]\n",
    "print(image_list)"
   ]
  },
  {
   "cell_type": "markdown",
   "metadata": {},
   "source": [
    "#### Getting the fullpath of the files"
   ]
  },
  {
   "cell_type": "code",
   "execution_count": null,
   "metadata": {},
   "outputs": [],
   "source": [
    "image_path = os.path.join('images', 'Image_1.jpg')\n",
    "print('Relative path:', image_path)\n",
    "\n",
    "abs_path = os.path.abspath(image_path)\n",
    "print('Absolute path:', abs_path)"
   ]
  },
  {
   "cell_type": "code",
   "execution_count": null,
   "metadata": {},
   "outputs": [],
   "source": [
    "## Putting it in a loop to find the absolute path of all the images in the folder:\n",
    "\n",
    "image_path_list = os.listdir('images')\n",
    "path_list = []\n",
    "\n",
    "for filename in image_path_list:\n",
    "    relative_path = os.path.join('images', filename)\n",
    "    abs_path = os.path.abspath(relative_path)\n",
    "    path_list.append(abs_path)\n",
    "\n",
    "print(path_list)"
   ]
  },
  {
   "cell_type": "code",
   "execution_count": null,
   "metadata": {},
   "outputs": [],
   "source": [
    "## Same code as above, but condensed to one line.\n",
    "\n",
    "path_list = [os.path.abspath(os.path.join('images', filename)) for filename in os.listdir('images')]\n",
    "\n",
    "print(path_list)"
   ]
  },
  {
   "cell_type": "markdown",
   "metadata": {},
   "source": [
    "## Lambda (Advanced Concepts)"
   ]
  },
  {
   "cell_type": "code",
   "execution_count": null,
   "metadata": {},
   "outputs": [],
   "source": [
    "def add(x, y):\n",
    "    return x+y\n",
    "\n",
    "print(add(1, 2))"
   ]
  },
  {
   "cell_type": "code",
   "execution_count": null,
   "metadata": {},
   "outputs": [],
   "source": [
    "add = lambda x,y : x+y\n",
    "print(add(1,2))"
   ]
  },
  {
   "cell_type": "markdown",
   "metadata": {},
   "source": [
    "## Filter (Advanced Concepts)"
   ]
  },
  {
   "cell_type": "code",
   "execution_count": null,
   "metadata": {},
   "outputs": [],
   "source": [
    "## Program to find elements divisible by 2 in a given array, and store it in a new list:\n",
    "\n",
    "my_list = [2, 15, 26, 32, 17, 41, 8, 12, 5]\n",
    "result = []\n",
    "\n",
    "for element in my_list:\n",
    "    if element % 2 == 0:\n",
    "        result.append(element)\n",
    "\n",
    "print(result)"
   ]
  },
  {
   "cell_type": "code",
   "execution_count": null,
   "metadata": {},
   "outputs": [],
   "source": [
    "## Same program, but using filter and lambda\n",
    "\n",
    "my_list = [2, 15, 26, 32, 17, 41, 8, 12, 5]\n",
    "result = list(filter(lambda x: x%2==0, my_list))\n",
    "\n",
    "print(result)"
   ]
  }
 ],
 "metadata": {
  "kernelspec": {
   "display_name": "Python 3",
   "language": "python",
   "name": "python3"
  },
  "language_info": {
   "codemirror_mode": {
    "name": "ipython",
    "version": 3
   },
   "file_extension": ".py",
   "mimetype": "text/x-python",
   "name": "python",
   "nbconvert_exporter": "python",
   "pygments_lexer": "ipython3",
   "version": "3.5.5"
  }
 },
 "nbformat": 4,
 "nbformat_minor": 2
}
