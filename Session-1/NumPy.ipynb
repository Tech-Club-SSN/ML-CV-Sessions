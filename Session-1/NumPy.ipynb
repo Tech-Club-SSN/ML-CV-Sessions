{
 "cells": [
  {
   "cell_type": "markdown",
   "metadata": {},
   "source": [
    "# NumPy Basics"
   ]
  },
  {
   "cell_type": "code",
   "execution_count": null,
   "metadata": {},
   "outputs": [],
   "source": [
    "## Importing the library\n",
    "import numpy as np"
   ]
  },
  {
   "cell_type": "markdown",
   "metadata": {},
   "source": [
    "### Terminologies"
   ]
  },
  {
   "cell_type": "markdown",
   "metadata": {},
   "source": [
    "- <b>Axis:</b> An integer value representing each dimension of the array. <b>Ex:</b> For a 2D array, rows are axis 0 whereas columns are axis 1.\n",
    "- <b>Shape:</b> Tuple representing the dimension values of an array along every axis. <b>Ex:</b> A 2D array with M rows and N columns has shape (M,N).\n",
    "- <b>Vector:</b> An array with a single dimension."
   ]
  },
  {
   "cell_type": "markdown",
   "metadata": {},
   "source": [
    "### Creating a NumPy array"
   ]
  },
  {
   "cell_type": "code",
   "execution_count": null,
   "metadata": {},
   "outputs": [],
   "source": [
    "## You create a numpy array by passing a list to the function np.array\n",
    "array = np.array([1,2,3])\n",
    "print(array)"
   ]
  },
  {
   "cell_type": "code",
   "execution_count": null,
   "metadata": {},
   "outputs": [],
   "source": [
    "## Creating a 2D array and printing its shape.\n",
    "## You can create a 2D array by passing a \"list of lists\" to np.array\n",
    "\n",
    "row1 = [1,2,3]\n",
    "row2 = [4,5,6]\n",
    "matrix = [row1, row2] ##This is a list of lists.\n",
    "\n",
    "array2D = np.array(matrix)\n",
    "print(array2D)\n",
    "print('\\nShape of the array:', array2D.shape)"
   ]
  },
  {
   "cell_type": "code",
   "execution_count": null,
   "metadata": {},
   "outputs": [],
   "source": [
    "## Alternatively, you can create the array as shown below:\n",
    "\n",
    "array2D = np.array([[1,2,3],[4,5,6]])\n",
    "print(array2D)\n",
    "print('\\nShape of the array:', array2D.shape)"
   ]
  },
  {
   "cell_type": "code",
   "execution_count": null,
   "metadata": {},
   "outputs": [],
   "source": [
    "## Let's create some 3D arrays filled with ones and zeros\n",
    "## We need to pass the shape of the array to the functions np.ones and np.zeros\n",
    "\n",
    "array3D_ones = np.ones(shape = (2, 2, 2))\n",
    "array3D_zeros = np.zeros(shape = (2, 2, 2))\n",
    "\n",
    "print(array3D_ones)"
   ]
  },
  {
   "cell_type": "markdown",
   "metadata": {},
   "source": [
    "### NumPy arrays vs Lists"
   ]
  },
  {
   "cell_type": "code",
   "execution_count": null,
   "metadata": {},
   "outputs": [],
   "source": [
    "## Let us recreate the above 2D array\n",
    "\n",
    "row1 = [1,2,3]\n",
    "row2 = [4,5,6]\n",
    "matrix = [row1, row2]\n",
    "array2D = np.array(matrix)"
   ]
  },
  {
   "cell_type": "code",
   "execution_count": null,
   "metadata": {},
   "outputs": [],
   "source": [
    "## Let us print some elements of both \"matrix\" and \"array2D\"\n",
    "## Look how the notation is different (Clearly, NumPy arrays are easy to access):\n",
    "\n",
    "print('First Element of List:', matrix[0][0])\n",
    "print('First Element of Numpy Array:', array2D[0,0])\n",
    "\n",
    "print('Last Element of List:', matrix[-1][-1])\n",
    "print('Last Element of Numpy Array:', array2D[-1,-1])"
   ]
  },
  {
   "cell_type": "markdown",
   "metadata": {},
   "source": [
    "## Loading images"
   ]
  },
  {
   "cell_type": "markdown",
   "metadata": {},
   "source": [
    "### Single image loading"
   ]
  },
  {
   "cell_type": "code",
   "execution_count": null,
   "metadata": {},
   "outputs": [],
   "source": [
    "## Importing OpenCV\n",
    "import cv2\n",
    "import os"
   ]
  },
  {
   "cell_type": "code",
   "execution_count": null,
   "metadata": {},
   "outputs": [],
   "source": [
    "## Loading the image and printing its shape\n",
    "\n",
    "img = cv2.imread('images/Image_1.jpg', 1) # 0 -> B/W image, 1 -> Colour image\n",
    "print(img.shape)"
   ]
  },
  {
   "cell_type": "code",
   "execution_count": null,
   "metadata": {},
   "outputs": [],
   "source": [
    "### Multiple image loading\n",
    "\n",
    "file_list = [os.path.join('images', filename) for filename in os.listdir('images')]\n",
    "list_of_imgs = []\n",
    "\n",
    "for file in file_list:\n",
    "    list_of_imgs.append(cv2.imread(file, 1))\n",
    "\n",
    "list_of_imgs = np.array(list_of_imgs)\n",
    "print(list_of_imgs.shape)"
   ]
  },
  {
   "cell_type": "markdown",
   "metadata": {},
   "source": [
    "## Basic arithmetic operations:"
   ]
  },
  {
   "cell_type": "markdown",
   "metadata": {},
   "source": [
    "### Basic Broadcasting\n",
    " "
   ]
  },
  {
   "cell_type": "code",
   "execution_count": null,
   "metadata": {},
   "outputs": [],
   "source": [
    "## Adding a constant to all elements of an array\n",
    "\n",
    "array1 = np.ones((2,2))\n",
    "array2 = array1 + 6\n",
    "print(array2)"
   ]
  },
  {
   "cell_type": "code",
   "execution_count": null,
   "metadata": {},
   "outputs": [],
   "source": [
    "## Multiplying a constance to all elements of an array\n",
    "\n",
    "array1 = np.ones((2,2))\n",
    "array2 = array1 * 3\n",
    "print(array2)"
   ]
  },
  {
   "cell_type": "markdown",
   "metadata": {},
   "source": [
    "### Simple Arithmetic"
   ]
  },
  {
   "cell_type": "code",
   "execution_count": null,
   "metadata": {},
   "outputs": [],
   "source": [
    "## Adding two arrays. You can subtract them in a similar fashion.\n",
    "\n",
    "array1 = np.ones((2,2)) * 3\n",
    "array2 = np.ones((2,2)) * 2\n",
    "array3 = array1 + array2\n",
    "print(array3)"
   ]
  },
  {
   "cell_type": "code",
   "execution_count": null,
   "metadata": {},
   "outputs": [],
   "source": [
    "## Element-wise multiplication of two arrays. You can divide them in a similar fashion.\n",
    "\n",
    "array1 = np.ones((2,2)) * 3\n",
    "array2 = np.ones((2,2)) * 2\n",
    "array3 = array1 * array2\n",
    "print(array3)"
   ]
  },
  {
   "cell_type": "code",
   "execution_count": null,
   "metadata": {},
   "outputs": [],
   "source": [
    "## Matrix multiplication\n",
    "\n",
    "array1 = np.ones((2,2)) * 3\n",
    "array2 = np.ones((2,2)) * 2\n",
    "array3 = array1 @ array2\n",
    "print(array3)"
   ]
  },
  {
   "cell_type": "markdown",
   "metadata": {},
   "source": [
    "## Other operations:"
   ]
  },
  {
   "cell_type": "markdown",
   "metadata": {},
   "source": [
    "### Concatenation"
   ]
  },
  {
   "cell_type": "code",
   "execution_count": null,
   "metadata": {},
   "outputs": [],
   "source": [
    "## Code to concatenate two arrays along an axis.\n",
    "## Two arrays can only be concatenated if all axes other than the target axis are the same in both arrays\n",
    "\n",
    "array1 = np.ones((1,2,4))\n",
    "array2 = np.ones((1,2,7))\n",
    "\n",
    "print('Shape of array1:', array1.shape)\n",
    "print('Shape of array2:', array2.shape)\n",
    "\n",
    "concatenated_result = np.concatenate((array1, array2), axis=2)\n",
    "print('Shape of result:', concatenated_result.shape)"
   ]
  },
  {
   "cell_type": "markdown",
   "metadata": {},
   "source": [
    "### Transpose"
   ]
  },
  {
   "cell_type": "code",
   "execution_count": null,
   "metadata": {},
   "outputs": [],
   "source": [
    "## Transposing refers to reordering the axes.\n",
    "## For 2D arrays, it's as simple as below:\n",
    "\n",
    "array = np.array([[1,2,3], [4,5,6]])\n",
    "print('Shape of the original array:', array.shape)\n",
    "print('Shape of the transposed array', array.T.shape)\n",
    "\n",
    "print('Original array:')\n",
    "print(array)\n",
    "\n",
    "print('Transposed array:')\n",
    "print(array.T)"
   ]
  },
  {
   "cell_type": "code",
   "execution_count": null,
   "metadata": {},
   "outputs": [],
   "source": [
    "## The object \".T\" reverses the axes. For 3D arrays and larger, there are many more ways to transpose.\n",
    "\n",
    "array3D = np.ones((6,4,9))\n",
    "array3D_transpose = np.transpose(array3D, (2,0,1))\n",
    "\n",
    "print('Shape of the original array:', array3D.shape)\n",
    "print('Shape of the transposed array:', array3D_transpose.shape)"
   ]
  },
  {
   "cell_type": "markdown",
   "metadata": {},
   "source": [
    "### Ravel"
   ]
  },
  {
   "cell_type": "code",
   "execution_count": null,
   "metadata": {},
   "outputs": [],
   "source": [
    "## Converts array of any dimension into a vector\n",
    "\n",
    "array = np.ones((4,5,6))\n",
    "array_ravelled = array.ravel()\n",
    "print('Shape of the ravelled array:', array_ravelled.shape)"
   ]
  },
  {
   "cell_type": "markdown",
   "metadata": {},
   "source": [
    "### Reshape"
   ]
  },
  {
   "cell_type": "code",
   "execution_count": null,
   "metadata": {},
   "outputs": [],
   "source": [
    "## Reshapes the array. The condition is that, the product of the axis values in the new array\n",
    "## must be equal to the product of the axis values in the old array.\n",
    "\n",
    "array = np.ones((4,5,6))\n",
    "array_reshaped = array.reshape(60, 2)\n",
    "\n",
    "print('Shape of the new array:', array_reshaped.shape)"
   ]
  },
  {
   "cell_type": "code",
   "execution_count": null,
   "metadata": {},
   "outputs": [],
   "source": [
    "## If you don't know the value of \"only one axis\", you can specify '-1' to the reshape function.\n",
    "\n",
    "array = np.ones((4,5,6))\n",
    "array_reshaped = array.reshape((3, 4, -1))\n",
    "\n",
    "print('Shape of the new array:', array_reshaped.shape)"
   ]
  },
  {
   "cell_type": "markdown",
   "metadata": {},
   "source": [
    "### Slicing"
   ]
  },
  {
   "cell_type": "code",
   "execution_count": null,
   "metadata": {},
   "outputs": [],
   "source": [
    "## Slicing is simply removing a part of an array.\n",
    "## Here's a 1D example.\n",
    "\n",
    "array = np.array([11,32,53,42,95])\n",
    "\n",
    "first_two = array[:2]\n",
    "second_and_third = array[2:4]\n",
    "last_two = array[-2:]\n",
    "all_elements = array[:]\n",
    "\n",
    "print('First two elements:', first_two)\n",
    "print('Second and third elements:', second_and_third)\n",
    "print('Last two elements:', last_two)\n",
    "print('All elements:', all_elements)"
   ]
  },
  {
   "cell_type": "code",
   "execution_count": null,
   "metadata": {},
   "outputs": [],
   "source": [
    "## Slicing multidimensional arrays.\n",
    "\n",
    "array = np.ones((5,6,7))\n",
    "sliced = array[:2,:2,:]\n",
    "\n",
    "print('Shape of original array:', array.shape)\n",
    "print('Shape of sliced array:', sliced.shape)"
   ]
  },
  {
   "cell_type": "markdown",
   "metadata": {},
   "source": [
    "### Saving and loading arrays"
   ]
  },
  {
   "cell_type": "code",
   "execution_count": null,
   "metadata": {},
   "outputs": [],
   "source": [
    "## Saving an array\n",
    "\n",
    "array = np.ones((3,3,3))\n",
    "np.save('trial.npy', array)"
   ]
  },
  {
   "cell_type": "code",
   "execution_count": null,
   "metadata": {},
   "outputs": [],
   "source": [
    "## Loading an array (Run the above cell first)\n",
    "\n",
    "array = np.load('trial.npy')\n",
    "print('Shape of loaded array:', array.shape)"
   ]
  },
  {
   "cell_type": "markdown",
   "metadata": {},
   "source": [
    "### Further material "
   ]
  },
  {
   "cell_type": "markdown",
   "metadata": {},
   "source": [
    "- Checkout the official NumPy documentation for more powerful functions, such as np.where\n",
    "- Helpful resource material: http://cs231n.github.io/python-numpy-tutorial/"
   ]
  }
 ],
 "metadata": {
  "kernelspec": {
   "display_name": "Python 3",
   "language": "python",
   "name": "python3"
  },
  "language_info": {
   "codemirror_mode": {
    "name": "ipython",
    "version": 3
   },
   "file_extension": ".py",
   "mimetype": "text/x-python",
   "name": "python",
   "nbconvert_exporter": "python",
   "pygments_lexer": "ipython3",
   "version": "3.5.5"
  }
 },
 "nbformat": 4,
 "nbformat_minor": 2
}
